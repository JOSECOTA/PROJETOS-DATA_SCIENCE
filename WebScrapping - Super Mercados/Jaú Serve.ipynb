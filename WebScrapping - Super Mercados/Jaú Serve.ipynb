{
 "cells": [
  {
   "cell_type": "code",
   "execution_count": 1,
   "id": "7fa90d21",
   "metadata": {},
   "outputs": [],
   "source": [
    "import bs4\n",
    "import urllib.request as urllib_request\n",
    "import pandas as pd\n",
    "from urllib.request import urlopen\n",
    "from bs4 import BeautifulSoup\n"
   ]
  },
  {
   "cell_type": "code",
   "execution_count": 17,
   "id": "b92a5d1d",
   "metadata": {},
   "outputs": [
    {
     "data": {
      "text/html": [
       "<div>\n",
       "<style scoped>\n",
       "    .dataframe tbody tr th:only-of-type {\n",
       "        vertical-align: middle;\n",
       "    }\n",
       "\n",
       "    .dataframe tbody tr th {\n",
       "        vertical-align: top;\n",
       "    }\n",
       "\n",
       "    .dataframe thead th {\n",
       "        text-align: right;\n",
       "    }\n",
       "</style>\n",
       "<table border=\"1\" class=\"dataframe\">\n",
       "  <thead>\n",
       "    <tr style=\"text-align: right;\">\n",
       "      <th></th>\n",
       "      <th>Supermercado</th>\n",
       "      <th>Produto</th>\n",
       "      <th>Preço</th>\n",
       "    </tr>\n",
       "  </thead>\n",
       "  <tbody>\n",
       "    <tr>\n",
       "      <th>0</th>\n",
       "      <td>Jaú Serve</td>\n",
       "      <td>CERVEJA SERRANA LATA 350ML</td>\n",
       "      <td>1.69</td>\n",
       "    </tr>\n",
       "    <tr>\n",
       "      <th>1</th>\n",
       "      <td>Jaú Serve</td>\n",
       "      <td>CERVEJA PURO MALTE DEVASSA 300ML</td>\n",
       "      <td>1.89</td>\n",
       "    </tr>\n",
       "    <tr>\n",
       "      <th>2</th>\n",
       "      <td>Jaú Serve</td>\n",
       "      <td>CERVEJA PILSEN ANTARCTICA SUB ZERO LATA 269ML</td>\n",
       "      <td>2.09</td>\n",
       "    </tr>\n",
       "    <tr>\n",
       "      <th>3</th>\n",
       "      <td>Jaú Serve</td>\n",
       "      <td>CERVEJA KAISER LATA 350ML</td>\n",
       "      <td>2.29</td>\n",
       "    </tr>\n",
       "    <tr>\n",
       "      <th>4</th>\n",
       "      <td>Jaú Serve</td>\n",
       "      <td>CERVEJA PILSEN ITAIPAVA LATA 269ML</td>\n",
       "      <td>2.29</td>\n",
       "    </tr>\n",
       "    <tr>\n",
       "      <th>...</th>\n",
       "      <td>...</td>\n",
       "      <td>...</td>\n",
       "      <td>...</td>\n",
       "    </tr>\n",
       "    <tr>\n",
       "      <th>95</th>\n",
       "      <td>Jaú Serve</td>\n",
       "      <td>CERVEJA PILSEN CHOPP BRAHMA LATA 350ML C/18 UN...</td>\n",
       "      <td>48.49</td>\n",
       "    </tr>\n",
       "    <tr>\n",
       "      <th>96</th>\n",
       "      <td>Jaú Serve</td>\n",
       "      <td>CERVEJA IPA LAGUNITAS LATA 350ML</td>\n",
       "      <td>83.88</td>\n",
       "    </tr>\n",
       "    <tr>\n",
       "      <th>97</th>\n",
       "      <td>Jaú Serve</td>\n",
       "      <td>CERVEJA PILSEN PURO MALTE EISENBAHN GARRAFA 600ML</td>\n",
       "      <td>83.88</td>\n",
       "    </tr>\n",
       "    <tr>\n",
       "      <th>98</th>\n",
       "      <td>Jaú Serve</td>\n",
       "      <td>CERVEJA LAGER PREMIUM HEINEKEN BARRIL 5L</td>\n",
       "      <td>89.90</td>\n",
       "    </tr>\n",
       "    <tr>\n",
       "      <th>99</th>\n",
       "      <td>Jaú Serve</td>\n",
       "      <td>CERVEJA IPA LAGUNITAS GARRAFA 355ML</td>\n",
       "      <td>118.80</td>\n",
       "    </tr>\n",
       "  </tbody>\n",
       "</table>\n",
       "<p>100 rows × 3 columns</p>\n",
       "</div>"
      ],
      "text/plain": [
       "   Supermercado                                            Produto   Preço\n",
       "0     Jaú Serve                         CERVEJA SERRANA LATA 350ML    1.69\n",
       "1     Jaú Serve                   CERVEJA PURO MALTE DEVASSA 300ML    1.89\n",
       "2     Jaú Serve      CERVEJA PILSEN ANTARCTICA SUB ZERO LATA 269ML    2.09\n",
       "3     Jaú Serve                          CERVEJA KAISER LATA 350ML    2.29\n",
       "4     Jaú Serve                 CERVEJA PILSEN ITAIPAVA LATA 269ML    2.29\n",
       "..          ...                                                ...     ...\n",
       "95    Jaú Serve  CERVEJA PILSEN CHOPP BRAHMA LATA 350ML C/18 UN...   48.49\n",
       "96    Jaú Serve                   CERVEJA IPA LAGUNITAS LATA 350ML   83.88\n",
       "97    Jaú Serve  CERVEJA PILSEN PURO MALTE EISENBAHN GARRAFA 600ML   83.88\n",
       "98    Jaú Serve           CERVEJA LAGER PREMIUM HEINEKEN BARRIL 5L   89.90\n",
       "99    Jaú Serve                CERVEJA IPA LAGUNITAS GARRAFA 355ML  118.80\n",
       "\n",
       "[100 rows x 3 columns]"
      ]
     },
     "execution_count": 17,
     "metadata": {},
     "output_type": "execute_result"
    }
   ],
   "source": [
    "\n",
    "url = 'https://www.jauserve.com.br/on/demandware.store/Sites-JauServe-Site/pt_BR/Search-Show?q='+'cerveja'+'&lang=pt_BR&start=0&sz=100'\n",
    "response = urlopen(url)\n",
    "html = response.read()\n",
    "soup = BeautifulSoup(html, 'html.parser')\n",
    "\n",
    "lista_item = []\n",
    "lista_valor=[]\n",
    "for i in range(len(soup.findAll('div',{'class':'pdp-link'}))):\n",
    "    lista_item.append(soup.findAll('div',{'class':'pdp-link'})[i].get_text().replace('\\n','').upper())\n",
    "    lista_valor.append(soup.findAll('span',{'class':'sales mr-2'})[i].get_text().replace('\\n','').split()[1].replace(',','.'))\n",
    "dataset = pd.DataFrame({'Supermercado':'Jaú Serve','Produto':lista_item , 'Preço':lista_valor})\n",
    "dataset['Preço'] = dataset['Preço'].astype(float)\n",
    "dataset.sort_values('Preço').reset_index(drop=True)"
   ]
  },
  {
   "cell_type": "code",
   "execution_count": 28,
   "id": "f41aeb24",
   "metadata": {},
   "outputs": [
    {
     "data": {
      "text/html": [
       "<div>\n",
       "<style scoped>\n",
       "    .dataframe tbody tr th:only-of-type {\n",
       "        vertical-align: middle;\n",
       "    }\n",
       "\n",
       "    .dataframe tbody tr th {\n",
       "        vertical-align: top;\n",
       "    }\n",
       "\n",
       "    .dataframe thead th {\n",
       "        text-align: right;\n",
       "    }\n",
       "</style>\n",
       "<table border=\"1\" class=\"dataframe\">\n",
       "  <thead>\n",
       "    <tr style=\"text-align: right;\">\n",
       "      <th></th>\n",
       "      <th>Supermercado</th>\n",
       "      <th>Produto</th>\n",
       "      <th>Preço</th>\n",
       "    </tr>\n",
       "  </thead>\n",
       "  <tbody>\n",
       "    <tr>\n",
       "      <th>9</th>\n",
       "      <td>Jaú Serve</td>\n",
       "      <td>CERVEJA BRAHMA LATA 350ML</td>\n",
       "      <td>2.75</td>\n",
       "    </tr>\n",
       "    <tr>\n",
       "      <th>36</th>\n",
       "      <td>Jaú Serve</td>\n",
       "      <td>CERVEJA BRAHMA ZERO LATA 350ML</td>\n",
       "      <td>3.99</td>\n",
       "    </tr>\n",
       "    <tr>\n",
       "      <th>99</th>\n",
       "      <td>Jaú Serve</td>\n",
       "      <td>CERVEJA PILSEN CHOPP BRAHMA LATA 350ML C/18 UN...</td>\n",
       "      <td>48.49</td>\n",
       "    </tr>\n",
       "  </tbody>\n",
       "</table>\n",
       "</div>"
      ],
      "text/plain": [
       "   Supermercado                                            Produto  Preço\n",
       "9     Jaú Serve                          CERVEJA BRAHMA LATA 350ML   2.75\n",
       "36    Jaú Serve                     CERVEJA BRAHMA ZERO LATA 350ML   3.99\n",
       "99    Jaú Serve  CERVEJA PILSEN CHOPP BRAHMA LATA 350ML C/18 UN...  48.49"
      ]
     },
     "execution_count": 28,
     "metadata": {},
     "output_type": "execute_result"
    }
   ],
   "source": [
    "marca = \"BRAHMA\"\n",
    "dataset.query(f'Produto.str.contains(\"{marca}\")',engine='python')"
   ]
  },
  {
   "cell_type": "code",
   "execution_count": null,
   "id": "4ea319da",
   "metadata": {},
   "outputs": [],
   "source": []
  },
  {
   "cell_type": "code",
   "execution_count": null,
   "id": "6a0d2afb",
   "metadata": {},
   "outputs": [],
   "source": []
  },
  {
   "cell_type": "code",
   "execution_count": null,
   "id": "5d1ca283",
   "metadata": {},
   "outputs": [],
   "source": []
  },
  {
   "cell_type": "code",
   "execution_count": null,
   "id": "2cc6e519",
   "metadata": {},
   "outputs": [],
   "source": []
  },
  {
   "cell_type": "code",
   "execution_count": null,
   "id": "e60c2a67",
   "metadata": {},
   "outputs": [],
   "source": []
  },
  {
   "cell_type": "code",
   "execution_count": null,
   "id": "4db73312",
   "metadata": {},
   "outputs": [],
   "source": []
  },
  {
   "cell_type": "code",
   "execution_count": null,
   "id": "3b7b3e81",
   "metadata": {},
   "outputs": [],
   "source": []
  },
  {
   "cell_type": "code",
   "execution_count": null,
   "id": "2661142d",
   "metadata": {},
   "outputs": [],
   "source": []
  },
  {
   "cell_type": "code",
   "execution_count": null,
   "id": "c290085f",
   "metadata": {},
   "outputs": [],
   "source": []
  },
  {
   "cell_type": "code",
   "execution_count": null,
   "id": "1cd6ce77",
   "metadata": {},
   "outputs": [],
   "source": []
  },
  {
   "cell_type": "code",
   "execution_count": null,
   "id": "4ac45fbe",
   "metadata": {},
   "outputs": [],
   "source": []
  },
  {
   "cell_type": "code",
   "execution_count": null,
   "id": "22d4b7af",
   "metadata": {},
   "outputs": [],
   "source": []
  },
  {
   "cell_type": "code",
   "execution_count": null,
   "id": "db3d562a",
   "metadata": {},
   "outputs": [],
   "source": []
  },
  {
   "cell_type": "code",
   "execution_count": null,
   "id": "c6b301aa",
   "metadata": {},
   "outputs": [],
   "source": []
  },
  {
   "cell_type": "code",
   "execution_count": null,
   "id": "e6ba2a95",
   "metadata": {},
   "outputs": [],
   "source": [
    "\n",
    "        "
   ]
  },
  {
   "cell_type": "code",
   "execution_count": null,
   "id": "14dff967",
   "metadata": {},
   "outputs": [],
   "source": [
    "\n",
    "    "
   ]
  },
  {
   "cell_type": "code",
   "execution_count": null,
   "id": "800c72d3",
   "metadata": {},
   "outputs": [],
   "source": []
  },
  {
   "cell_type": "code",
   "execution_count": null,
   "id": "4f3629e0",
   "metadata": {},
   "outputs": [],
   "source": []
  },
  {
   "cell_type": "code",
   "execution_count": null,
   "id": "fae48e97",
   "metadata": {},
   "outputs": [],
   "source": []
  }
 ],
 "metadata": {
  "kernelspec": {
   "display_name": "Python 3 (ipykernel)",
   "language": "python",
   "name": "python3"
  },
  "language_info": {
   "codemirror_mode": {
    "name": "ipython",
    "version": 3
   },
   "file_extension": ".py",
   "mimetype": "text/x-python",
   "name": "python",
   "nbconvert_exporter": "python",
   "pygments_lexer": "ipython3",
   "version": "3.9.7"
  }
 },
 "nbformat": 4,
 "nbformat_minor": 5
}
